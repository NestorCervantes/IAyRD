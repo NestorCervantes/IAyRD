{
  "nbformat": 4,
  "nbformat_minor": 0,
  "metadata": {
    "colab": {
      "provenance": [],
      "authorship_tag": "ABX9TyN5RGlIQMokWyQ/qJ4t8tH3",
      "include_colab_link": true
    },
    "kernelspec": {
      "name": "python3",
      "display_name": "Python 3"
    },
    "language_info": {
      "name": "python"
    }
  },
  "cells": [
    {
      "cell_type": "markdown",
      "metadata": {
        "id": "view-in-github",
        "colab_type": "text"
      },
      "source": [
        "<a href=\"https://colab.research.google.com/github/NestorCervantes/IAyRD_2024/blob/main/Untitled1.ipynb\" target=\"_parent\"><img src=\"https://colab.research.google.com/assets/colab-badge.svg\" alt=\"Open In Colab\"/></a>"
      ]
    },
    {
      "cell_type": "code",
      "execution_count": 1,
      "metadata": {
        "colab": {
          "base_uri": "https://localhost:8080/"
        },
        "id": "D7GzwyMbcM3_",
        "outputId": "e79f2d42-67e9-46f3-cd12-7cdeba2c9d24"
      },
      "outputs": [
        {
          "output_type": "stream",
          "name": "stdout",
          "text": [
            "Bienvenido, ingrese su nombre: Nestor\n",
            "Hola, Nestor\n",
            "Bienvenido, ingrese su nombre: Ana\n",
            "Nombre inválido\n"
          ]
        }
      ],
      "source": [
        "# Actividad 2: Diseño de algoritmos en Python\n",
        "# Nombre del alumno: Nestor Antonio Cervantes Estrada\n",
        "# Matrícula: 2023965\n",
        "# Hora: N4\n",
        "\n",
        "\n",
        "#Ejercicio 1\n",
        "x = input(\"Bienvenido, ingrese su nombre: \")\n",
        "if (x == \"Ana\") or (x == \"Juan\") or (x == \"Pedro\"):\n",
        "  print(\"Nombre inválido\")\n",
        "else:\n",
        "  print(f\"Hola, {x}\")\n",
        "\n",
        "  x = input(\"Bienvenido, ingrese su nombre: \")\n",
        "if (x == \"Ana\") or (x == \"Juan\") or (x == \"Pedro\"):\n",
        "  print(\"Nombre inválido\")\n",
        "else:\n",
        "  print(f\"Hola, {x}\")"
      ]
    },
    {
      "cell_type": "code",
      "source": [
        "#Ejercicio 2\n",
        "def lista_invertida(a):\n",
        " lista = []\n",
        " for c in range(a):\n",
        "     b=input(f\"Ingrese el elemento {c+1} de la lista: \")\n",
        "     lista.append(b)\n",
        " lista.reverse()\n",
        " print(lista)"
      ],
      "metadata": {
        "id": "hFdvxVtRyAmW"
      },
      "execution_count": 2,
      "outputs": []
    },
    {
      "cell_type": "code",
      "source": [
        "lista_invertida(5)"
      ],
      "metadata": {
        "colab": {
          "base_uri": "https://localhost:8080/"
        },
        "id": "roOEPWEstjRu",
        "outputId": "ac96d78b-4147-415e-d456-7a56b51ecab2"
      },
      "execution_count": 3,
      "outputs": [
        {
          "output_type": "stream",
          "name": "stdout",
          "text": [
            "Ingrese el elemento 1 de la lista: perro\n",
            "Ingrese el elemento 2 de la lista: gato\n",
            "Ingrese el elemento 3 de la lista: fresa\n",
            "Ingrese el elemento 4 de la lista: 7\n",
            "Ingrese el elemento 5 de la lista: 4\n",
            "['4', '7', 'fresa', 'gato', 'perro']\n"
          ]
        }
      ]
    },
    {
      "cell_type": "code",
      "source": [
        "#Ejercicio 3\n",
        "def fibonacci(n):\n",
        "    fibonacci_series = []\n",
        "    a, b = 0, 1\n",
        "    for _ in range(n):\n",
        "        fibonacci_series.append(a)\n",
        "        a, b = b, a + b\n",
        "    return fibonacci_series\n",
        "\n",
        "cantidad_numeros = int(input(\"Ingrese la cantidad de números de la serie de Fibonacci que desea generar: \"))\n",
        "\n",
        "if cantidad_numeros <= 0:\n",
        "    print(\"Por favor, ingrese un número positivo mayor que cero.\")\n",
        "else:\n",
        "    resultado = fibonacci(cantidad_numeros)\n",
        "    print(\"Serie de Fibonacci con\", cantidad_numeros, \"números:\", resultado)\n"
      ],
      "metadata": {
        "colab": {
          "base_uri": "https://localhost:8080/"
        },
        "id": "K-SlW9GYik79",
        "outputId": "c25bdfe6-df50-4b2f-8cd2-f6944e2c4692"
      },
      "execution_count": 187,
      "outputs": [
        {
          "output_type": "stream",
          "name": "stdout",
          "text": [
            "Ingrese la cantidad de números de la serie de Fibonacci que desea generar: 7\n",
            "Serie de Fibonacci con 7 números: [0, 1, 1, 2, 3, 5, 8]\n"
          ]
        }
      ]
    },
    {
      "cell_type": "code",
      "source": [
        "#Ejercicio 4\n",
        "import random\n",
        "print(\"Trate de adivinar un número al azar del 1 al 100 escogido por Phyton\")\n",
        "r = range(1,101)\n",
        "valor = random.choice(r)\n",
        "e = int(input(\"¿Qué numero escogí?: \"))\n",
        "while valor != e:\n",
        "  if e < valor:\n",
        "    print(\"Es más grande\")\n",
        "    e = int(input(\"¿Qué numero escogí?: \"))\n",
        "  elif e > valor:\n",
        "    print(\"Es más pequeño\")\n",
        "    e = int(input (\"¿Qué numero escogí?: \"))\n",
        "print(\"\\n¡Acertaste, felicidades!\")\n",
        ""
      ],
      "metadata": {
        "colab": {
          "base_uri": "https://localhost:8080/"
        },
        "id": "CVde4pauD6Ei",
        "outputId": "9308e247-0833-4d0e-81d3-1de7cfa21ce1"
      },
      "execution_count": 188,
      "outputs": [
        {
          "output_type": "stream",
          "name": "stdout",
          "text": [
            "Trate de adivinar un número al azar del 1 al 100 escogido por Phyton\n",
            "¿Qué numero escogí?: 89\n",
            "Es más pequeño\n",
            "¿Qué numero escogí?: 33\n",
            "Es más pequeño\n",
            "¿Qué numero escogí?: 10\n",
            "Es más grande\n",
            "¿Qué numero escogí?: 20\n",
            "Es más pequeño\n",
            "¿Qué numero escogí?: 15\n",
            "Es más grande\n",
            "¿Qué numero escogí?: 18\n",
            "\n",
            "¡Acertaste, felicidades!\n"
          ]
        }
      ]
    },
    {
      "cell_type": "code",
      "source": [
        "#Ejercicio 5\n",
        "def es_primo(numero):\n",
        "    if numero <= 1:\n",
        "        return False\n",
        "    elif numero <= 3:\n",
        "        return True\n",
        "    elif numero % 2 == 0 or numero % 3 == 0:\n",
        "        return False\n",
        "    i = 5\n",
        "    while i * i <= numero:\n",
        "        if numero % i == 0 or numero % (i + 2) == 0:\n",
        "            return False\n",
        "        i += 6\n",
        "    return True\n",
        "\n",
        "inicio = int(input(\"Ingrese el número inicial del rango: \"))\n",
        "fin = int(input(\"Ingrese el número final del rango: \"))\n",
        "\n",
        "print(f\"Números primos en el rango de {inicio} a {fin}:\")\n",
        "for numero in range(inicio, fin + 1):\n",
        "    if es_primo(numero):\n",
        "        print(numero)"
      ],
      "metadata": {
        "colab": {
          "base_uri": "https://localhost:8080/"
        },
        "id": "Dsr3pCcKem7y",
        "outputId": "469ebd97-b5a9-43d7-de85-8d005d517770"
      },
      "execution_count": 189,
      "outputs": [
        {
          "output_type": "stream",
          "name": "stdout",
          "text": [
            "Ingrese el número inicial del rango: 3\n",
            "Ingrese el número final del rango: 20\n",
            "Números primos en el rango de 3 a 20:\n",
            "3\n",
            "5\n",
            "7\n",
            "11\n",
            "13\n",
            "17\n",
            "19\n"
          ]
        }
      ]
    },
    {
      "cell_type": "code",
      "source": [
        "#Ejercicio 6\n",
        "a = float(input(\"Ingrese el primer número: \"))\n",
        "b = float(input(\"Ingrese el segundo número: \"))\n",
        "\n",
        "suma = a+b\n",
        "print(\"Suma: \", suma)\n",
        "resta = a-b\n",
        "print(\"Resta: \", resta)\n",
        "multiplicacion = a*b\n",
        "print(\"Multiplicación: \", multiplicacion)\n",
        "if b != 0:\n",
        "  division = a/b\n",
        "  print(\"Division: \", division)\n",
        "else:\n",
        "  print(\"División: Valor indefinido\")"
      ],
      "metadata": {
        "colab": {
          "base_uri": "https://localhost:8080/"
        },
        "id": "C3vmikuJfSwH",
        "outputId": "b4566ac7-f4f3-4c02-dd49-9a313ee3316a"
      },
      "execution_count": 4,
      "outputs": [
        {
          "output_type": "stream",
          "name": "stdout",
          "text": [
            "Ingrese el primer número: 5\n",
            "Ingrese el segundo número: 7\n",
            "Suma:  12.0\n",
            "Resta:  -2.0\n",
            "Multiplicación:  35.0\n",
            "Division:  0.7142857142857143\n"
          ]
        }
      ]
    }
  ]
}